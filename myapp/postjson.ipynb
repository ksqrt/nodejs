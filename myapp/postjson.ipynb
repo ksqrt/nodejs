{
 "cells": [
  {
   "cell_type": "code",
   "execution_count": 5,
   "metadata": {},
   "outputs": [
    {
     "name": "stdout",
     "output_type": "stream",
     "text": [
      "200\n",
      "b'{\"direction\":\"RES\",\"Command\":\"RESP\",\"R_STATUS\":true}'\n"
     ]
    }
   ],
   "source": [
    "import requests\n",
    "import random\n",
    "\n",
    "num = random.random()\n",
    "\n",
    "json = {\n",
    "  \"direction\": \"REQ\",\n",
    "  \"Command\": \"TRIG\",\n",
    "  \"TRIGGER_ID\": 1,\n",
    "  \"LOG_ID\": 1\n",
    "}\n",
    "\n",
    "response = requests.post('http://localhost:3000/addUser/test'+str(num), json=json)\n",
    "\n",
    "print(response.status_code)\n",
    "print(response.content)\n"
   ]
  },
  {
   "cell_type": "code",
   "execution_count": null,
   "metadata": {},
   "outputs": [],
   "source": []
  }
 ],
 "metadata": {
  "kernelspec": {
   "display_name": "Python 3.8.10 64-bit",
   "language": "python",
   "name": "python3"
  },
  "language_info": {
   "codemirror_mode": {
    "name": "ipython",
    "version": 3
   },
   "file_extension": ".py",
   "mimetype": "text/x-python",
   "name": "python",
   "nbconvert_exporter": "python",
   "pygments_lexer": "ipython3",
   "version": "3.8.10"
  },
  "orig_nbformat": 4,
  "vscode": {
   "interpreter": {
    "hash": "916dbcbb3f70747c44a77c7bcd40155683ae19c65e1c03b4aa3499c5328201f1"
   }
  }
 },
 "nbformat": 4,
 "nbformat_minor": 2
}
